{
 "cells": [
  {
   "cell_type": "markdown",
   "source": [
    "# Imports"
   ],
   "metadata": {
    "collapsed": false
   },
   "id": "3061ce2eff3af355"
  },
  {
   "cell_type": "code",
   "execution_count": 25,
   "outputs": [
    {
     "name": "stdout",
     "output_type": "stream",
     "text": [
      "The autoreload extension is already loaded. To reload it, use:\n",
      "  %reload_ext autoreload\n"
     ]
    }
   ],
   "source": [
    "%load_ext autoreload\n",
    "%autoreload 2"
   ],
   "metadata": {
    "collapsed": false,
    "ExecuteTime": {
     "end_time": "2024-06-07T12:03:32.197619700Z",
     "start_time": "2024-06-07T12:03:32.033402600Z"
    }
   },
   "id": "e0d3db5d8476a015"
  },
  {
   "cell_type": "code",
   "execution_count": 26,
   "id": "95d61ef0728ccf56",
   "metadata": {
    "collapsed": false,
    "ExecuteTime": {
     "end_time": "2024-06-07T12:03:32.331200700Z",
     "start_time": "2024-06-07T12:03:32.191237700Z"
    }
   },
   "outputs": [],
   "source": [
    "import pandas as pd\n",
    "import numpy as np\n",
    "from tqdm import tqdm\n",
    "from sklearn.ensemble import RandomForestClassifier\n",
    "from sklearn.linear_model import LogisticRegression\n",
    "from sksurv.linear_model import CoxPHSurvivalAnalysis\n",
    "from sksurv.ensemble import RandomSurvivalForest\n",
    "import data_processing\n",
    "import plots\n",
    "import models\n",
    "import experiments"
   ]
  },
  {
   "cell_type": "markdown",
   "source": [
    "# Generate synthetic data"
   ],
   "metadata": {
    "collapsed": false
   },
   "id": "8dd5c304c185d39c"
  },
  {
   "cell_type": "code",
   "execution_count": null,
   "id": "9bcd4dc0bfc4f4e8",
   "metadata": {
    "collapsed": false
   },
   "outputs": [],
   "source": [
    "orig_data = pd.read_csv(\"datasets/src/breast_cancer_rna.csv\")\n",
    "df_syn = orig_data"
   ]
  },
  {
   "cell_type": "code",
   "execution_count": null,
   "id": "bae3b928aa9b4538",
   "metadata": {
    "collapsed": false
   },
   "outputs": [],
   "source": [
    "_, df_syn = data_processing.generate_synthetic_data(orig_data, 2000)"
   ]
  },
  {
   "cell_type": "code",
   "execution_count": null,
   "id": "784f36790e5e3aa9",
   "metadata": {
    "collapsed": false
   },
   "outputs": [],
   "source": [
    "time, censor = data_processing.determine_censor_time(df_syn)\n",
    "# we can generate extra data and use only the censored samples from a given point to get a dataset with higher censoring percentage \n",
    "df_tmp = df_syn.iloc[20001:40000, :]\n",
    "df_tmp2 = df_syn.iloc[0:20001, :]\n",
    "df_tmp2 = pd.concat([df_tmp2, df_tmp.loc[(df_tmp['time'] < time) & (df_tmp['censor'] == False)]])"
   ]
  },
  {
   "cell_type": "code",
   "execution_count": null,
   "id": "1bd304e4578cdc20",
   "metadata": {
    "collapsed": false
   },
   "outputs": [],
   "source": [
    "df_syn.to_excel('datasets/syn/sksurv_aids.xlsx')"
   ]
  },
  {
   "cell_type": "markdown",
   "source": [
    "# Experiment\n",
    "## Load pre-saved data"
   ],
   "metadata": {
    "collapsed": false
   },
   "id": "6e02b8d97093b7a9"
  },
  {
   "cell_type": "code",
   "execution_count": 27,
   "id": "5c454d46d5aaa1ed",
   "metadata": {
    "collapsed": false,
    "ExecuteTime": {
     "end_time": "2024-06-07T12:03:40.488681700Z",
     "start_time": "2024-06-07T12:03:36.009075500Z"
    }
   },
   "outputs": [],
   "source": [
    "df_syn = pd.read_excel(\"datasets/syn/sksurv_gbsg2.xlsx\", index_col=0)"
   ]
  },
  {
   "cell_type": "code",
   "execution_count": null,
   "outputs": [],
   "source": [
    "# plot censored percentage by time if we want to manually pick the timeframe, can also use data_processing.determine_censor_time\n",
    "plots.censored_by_time_plot(df_syn)"
   ],
   "metadata": {
    "collapsed": false
   },
   "id": "17d68c4c8c7d6619"
  },
  {
   "cell_type": "code",
   "execution_count": null,
   "outputs": [],
   "source": [
    "# set censor time manually\n",
    "censor_time = 230\n",
    "print(df_syn[(df_syn['time'] < censor_time) & (df_syn['censor'] == False)].shape[0])\n",
    "df_syn[(df_syn['time'] < censor_time) & (df_syn['censor'] == False)].shape[0]/df_syn.shape[0]"
   ],
   "metadata": {
    "collapsed": false
   },
   "id": "58f580b0ab5b9c8e"
  },
  {
   "cell_type": "code",
   "execution_count": null,
   "outputs": [],
   "source": [
    "plots.censored_samples_by_time(df_syn, censor_time, 'aids')"
   ],
   "metadata": {
    "collapsed": false
   },
   "id": "e68d6ab33ad5a0e5"
  },
  {
   "cell_type": "markdown",
   "source": [
    "## Hyperparameter tuning"
   ],
   "metadata": {
    "collapsed": false
   },
   "id": "2be0c24759f37cb9"
  },
  {
   "cell_type": "code",
   "execution_count": 31,
   "outputs": [],
   "source": [
    "models_dict = {'Forest': (RandomSurvivalForest, RandomForestClassifier), 'Regression': (CoxPHSurvivalAnalysis, LogisticRegression)}\n",
    "tuning_parmas_dict = {'Forest': {'n_estimators': [50, 80, 100, 200], 'max_depth': [4, 8, 16, 24, 32, None], 'min_samples_split': [2, 4, 8], 'max_features': ['log2', 'sqrt']},\n",
    "                 'Regression': {}}\n",
    "\n",
    "exp_model_type = 'Regression'\n",
    "surv_model, sk_model = models_dict[exp_model_type]\n",
    "tuning_parmas = tuning_parmas_dict[exp_model_type]"
   ],
   "metadata": {
    "collapsed": false,
    "ExecuteTime": {
     "end_time": "2024-06-07T12:05:07.424522Z",
     "start_time": "2024-06-07T12:05:07.264481300Z"
    }
   },
   "id": "34f25e49671b156c"
  },
  {
   "cell_type": "code",
   "execution_count": 29,
   "outputs": [],
   "source": [
    "# if we want to use default params\n",
    "surv_params = None\n",
    "sklearn_params = None"
   ],
   "metadata": {
    "collapsed": false,
    "ExecuteTime": {
     "end_time": "2024-06-07T12:03:40.772326500Z",
     "start_time": "2024-06-07T12:03:40.623802900Z"
    }
   },
   "id": "3d9fee94ff3035cf"
  },
  {
   "cell_type": "code",
   "execution_count": null,
   "outputs": [],
   "source": [
    "df_exp = df_syn\n",
    "surv_params, best_auc_rsf = models.model_tuning_rsf(df_exp, censor_time, tuning_parmas, 3)"
   ],
   "metadata": {
    "collapsed": false
   },
   "id": "c893025241c48f90"
  },
  {
   "cell_type": "code",
   "execution_count": null,
   "outputs": [],
   "source": [
    "df_exp = df_syn\n",
    "datasets = data_processing.create_datasets(df_syn, censor_time)\n",
    "sklearn_params, best_auc_sklearn = models.model_tuning(datasets['uncensored']['X_train'],datasets['uncensored']['y_train'], sk_model(n_jobs=-1), tuning_parmas, verbose=3)"
   ],
   "metadata": {
    "collapsed": false
   },
   "id": "99b68c9ddd3d01e9"
  },
  {
   "cell_type": "code",
   "execution_count": null,
   "outputs": [],
   "source": [
    "print(f\"surv model params: {surv_params}\")\n",
    "print(f\"sklearn model params: {sklearn_params}\")"
   ],
   "metadata": {
    "collapsed": false
   },
   "id": "91843edd50302ffa"
  },
  {
   "cell_type": "markdown",
   "source": [
    "## Train and score models"
   ],
   "metadata": {
    "collapsed": false
   },
   "id": "ecf1373c6b53d3bc"
  },
  {
   "cell_type": "code",
   "execution_count": null,
   "outputs": [],
   "source": [
    "# if we want to manually change params\n",
    "surv_params = {'n_estimators': 200, 'max_features': 1.0}"
   ],
   "metadata": {
    "collapsed": false
   },
   "id": "ccd4f89e1d1a3a27"
  },
  {
   "cell_type": "code",
   "execution_count": null,
   "outputs": [],
   "source": [
    "sklearn_params =  {'n_estimators': 100, 'max_features': 1.0}"
   ],
   "metadata": {
    "collapsed": false
   },
   "id": "2caa3b1cb7a13a97"
  },
  {
   "cell_type": "code",
   "execution_count": 33,
   "id": "7077bc9d46c5ccc5",
   "metadata": {
    "collapsed": false,
    "ExecuteTime": {
     "end_time": "2024-06-07T12:13:54.700679100Z",
     "start_time": "2024-06-07T12:13:53.538521300Z"
    }
   },
   "outputs": [
    {
     "name": "stderr",
     "output_type": "stream",
     "text": [
      "  0%|          | 0/1 [00:00<?, ?it/s]\n",
      "  0%|          | 0/1 [00:00<?, ?it/s]\u001B[A"
     ]
    },
    {
     "name": "stdout",
     "output_type": "stream",
     "text": [
      "uncensored train size: 320, test size: 80\n",
      "censored train size (0.0% censoring): 320\n",
      "censored train size (12.0% censoring): 363\n",
      "censored train size (24.0% censoring): 421\n",
      "censored train size (36.0% censoring): 499\n"
     ]
    },
    {
     "name": "stderr",
     "output_type": "stream",
     "text": [
      "\n",
      "100%|██████████| 1/1 [00:00<00:00,  2.40it/s]\u001B[A\n",
      "100%|██████████| 1/1 [00:00<00:00,  1.18it/s]"
     ]
    },
    {
     "name": "stdout",
     "output_type": "stream",
     "text": [
      "censored train size (48.0% censoring): 615\n",
      "censored train size (60.0% censoring): 800\n"
     ]
    },
    {
     "name": "stderr",
     "output_type": "stream",
     "text": [
      "\n"
     ]
    },
    {
     "data": {
      "text/plain": "<Figure size 640x480 with 1 Axes>",
      "image/png": "[encoded data removed]"
     },
     "metadata": {},
     "output_type": "display_data"
    }
   ],
   "source": [
    "sk_auc_mean = 0\n",
    "dataset_name = 'breast cancer rna'\n",
    "percentage = 60\n",
    "sample_size = 1000\n",
    "surv_auc_mean = np.zeros(int(percentage/10))\n",
    "num_experiments = 1\n",
    "n_sub_dataset = 1\n",
    "for j in tqdm(range(n_sub_dataset)):\n",
    "    df_exp = df_syn.sample(sample_size)\n",
    "    censor_time, percentage = data_processing.determine_censor_time(df_exp, percentage)\n",
    "    censor_vals = np.linspace(0, percentage, int(percentage/10))/100\n",
    "    for i in tqdm(range(num_experiments)):\n",
    "        rfc_auc, rsf_aucs, datasets = experiments.run_experiment(df_exp, censor_vals, censor_time, models_dict[exp_model_type], (surv_params, sklearn_params), test_size_relative=False, debug=True)\n",
    "        sk_auc_mean += rfc_auc\n",
    "        surv_auc_mean += np.asarray(rsf_aucs)\n",
    "sk_auc_mean /= num_experiments*n_sub_dataset\n",
    "surv_auc_mean /= num_experiments*n_sub_dataset\n",
    "plots.line_plot(surv_auc_mean, sk_auc_mean, censor_vals, num_experiments, dataset_name)"
   ]
  },
  {
   "cell_type": "code",
   "execution_count": null,
   "outputs": [],
   "source": [
    "plots.line_plot(surv_auc_mean, sk_auc_mean, censor_vals, num_experiments, dataset_name)"
   ],
   "metadata": {
    "collapsed": false
   },
   "id": "ad643334c8d57a13"
  },
  {
   "cell_type": "code",
   "execution_count": 38,
   "outputs": [],
   "source": [
    "experiments.exp_report(sample_size, dataset_name, censor_vals, datasets, censor_time, exp_model_type, surv_params, sklearn_params, {'sk_auc_mean': sk_auc_mean, 'surv_auc_mean': surv_auc_mean})"
   ],
   "metadata": {
    "collapsed": false,
    "ExecuteTime": {
     "end_time": "2024-06-07T12:17:07.945104200Z",
     "start_time": "2024-06-07T12:17:07.766431900Z"
    }
   },
   "id": "42dc4214cb6bed26"
  }
 ],
 "metadata": {
  "kernelspec": {
   "display_name": "Python 3 (ipykernel)",
   "language": "python",
   "name": "python3"
  },
  "language_info": {
   "codemirror_mode": {
    "name": "ipython",
    "version": 3
   },
   "file_extension": ".py",
   "mimetype": "text/x-python",
   "name": "python",
   "nbconvert_exporter": "python",
   "pygments_lexer": "ipython3",
   "version": "3.10.11"
  }
 },
 "nbformat": 4,
 "nbformat_minor": 5
}
