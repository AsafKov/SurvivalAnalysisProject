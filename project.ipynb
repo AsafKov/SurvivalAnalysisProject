{
 "cells": [
  {
   "cell_type": "markdown",
   "source": [
    "# Imports"
   ],
   "metadata": {
    "collapsed": false
   },
   "id": "3061ce2eff3af355"
  },
  {
   "cell_type": "code",
   "execution_count": 1,
   "outputs": [],
   "source": [
    "%load_ext autoreload\n",
    "%autoreload 2"
   ],
   "metadata": {
    "collapsed": false,
    "ExecuteTime": {
     "end_time": "2024-05-25T08:58:16.728273400Z",
     "start_time": "2024-05-25T08:58:16.678467300Z"
    }
   },
   "id": "e0d3db5d8476a015"
  },
  {
   "cell_type": "code",
   "execution_count": 2,
   "id": "95d61ef0728ccf56",
   "metadata": {
    "collapsed": false,
    "ExecuteTime": {
     "end_time": "2024-05-25T08:58:59.983478200Z",
     "start_time": "2024-05-25T08:58:16.727201800Z"
    }
   },
   "outputs": [
    {
     "name": "stdout",
     "output_type": "stream",
     "text": [
      "[KeOps] Warning : Cuda libraries were not detected on the system or could not be loaded ; using cpu only mode\n"
     ]
    }
   ],
   "source": [
    "import pandas as pd\n",
    "import numpy as np\n",
    "from tqdm import tqdm\n",
    "from sklearn.ensemble import RandomForestClassifier\n",
    "from sksurv.datasets import load_whas500, load_gbsg2, load_aids\n",
    "import data_processing\n",
    "import plots\n",
    "import models"
   ]
  },
  {
   "cell_type": "markdown",
   "source": [
    "# Generate synthetic data"
   ],
   "metadata": {
    "collapsed": false
   },
   "id": "8dd5c304c185d39c"
  },
  {
   "cell_type": "code",
   "execution_count": 12,
   "id": "9bcd4dc0bfc4f4e8",
   "metadata": {
    "collapsed": false,
    "ExecuteTime": {
     "end_time": "2024-05-19T07:21:01.134896100Z",
     "start_time": "2024-05-19T07:21:01.001049600Z"
    }
   },
   "outputs": [
    {
     "data": {
      "text/plain": "     ACTB  ANKRD17  ARID1A  ARID1B  ARID5B    ATM    ATR    B2M  BCL10   BCL2  \\\n0  -0.465    0.153  -0.205  -0.054   0.259 -0.129 -0.022 -0.503  0.225  0.368   \n1   0.002   -0.011  -0.098  -0.011  -0.008  0.009 -0.081 -0.926 -0.013  0.393   \n2  -0.185    0.032  -0.088  -0.026   0.030  0.028 -0.090 -0.096 -0.017  0.761   \n3   0.728    0.033  -0.764  -0.764   0.017  0.680  0.000  0.008 -0.006  0.670   \n4  -0.099   -0.022  -0.364  -0.012  -0.008 -0.012 -0.025  0.070  0.005  0.026   \n..    ...      ...     ...     ...     ...    ...    ...    ...    ...    ...   \n95 -0.480    0.360   0.341  -0.078   0.299 -0.282 -0.097 -0.260  0.278  0.339   \n96 -0.083   -0.078   0.160  -0.101   0.005 -0.063 -0.552  0.389 -0.009 -0.023   \n97  0.365   -0.162   0.137  -0.176   0.442 -0.113 -0.133 -0.155 -0.143 -0.187   \n98 -0.262    0.448  -0.223  -0.169   0.424 -0.171  0.412 -0.738  0.351  2.141   \n99  0.366   -0.243  -0.064  -0.083  -0.092  0.010 -0.139  0.292 -0.205  0.294   \n\n    ...    WAC   XPO1    YY1  ZBTB7A   ZEB2   ZFAT  ZNF292  ZNF608  censor  \\\n0   ... -0.157 -0.064 -0.297  -0.294  0.376  0.329  -0.147   0.212       0   \n1   ... -0.078 -0.098  0.138   0.053 -0.008  0.263  -0.030   0.183       0   \n2   ... -0.110 -0.086  0.041  -0.079 -0.163 -0.023  -0.359  -0.007       0   \n3   ... -0.025  0.557  0.683   0.037 -0.001  0.015   0.050  -0.003       0   \n4   ... -0.109 -0.042 -0.068   0.033 -0.061  0.057  -0.089  -0.018       0   \n..  ...    ...    ...    ...     ...    ...    ...     ...     ...     ...   \n95  ... -0.286 -0.290 -0.362  -1.019  0.429  0.195  -0.190   0.248       0   \n96  ... -0.056  0.644 -0.075  -0.367 -0.023 -0.234   0.016   0.000       1   \n97  ...  0.278  1.568  0.442  -0.045  0.292  0.021  -0.176   0.426       0   \n98  ...  0.009 -0.348  0.074  -0.428  0.602  0.255  -0.685   0.278       0   \n99  ... -0.059 -0.050 -0.017   0.139 -0.231  0.077  -0.233  -0.125       0   \n\n       time  \n0    17.936  \n1    79.648  \n2    56.848  \n3    69.616  \n4    86.032  \n..      ...  \n95   58.672  \n96   79.344  \n97  337.440  \n98   36.784  \n99   60.192  \n\n[100 rows x 142 columns]",
      "text/html": "<div>\n<style scoped>\n    .dataframe tbody tr th:only-of-type {\n        vertical-align: middle;\n    }\n\n    .dataframe tbody tr th {\n        vertical-align: top;\n    }\n\n    .dataframe thead th {\n        text-align: right;\n    }\n</style>\n<table border=\"1\" class=\"dataframe\">\n  <thead>\n    <tr style=\"text-align: right;\">\n      <th></th>\n      <th>ACTB</th>\n      <th>ANKRD17</th>\n      <th>ARID1A</th>\n      <th>ARID1B</th>\n      <th>ARID5B</th>\n      <th>ATM</th>\n      <th>ATR</th>\n      <th>B2M</th>\n      <th>BCL10</th>\n      <th>BCL2</th>\n      <th>...</th>\n      <th>WAC</th>\n      <th>XPO1</th>\n      <th>YY1</th>\n      <th>ZBTB7A</th>\n      <th>ZEB2</th>\n      <th>ZFAT</th>\n      <th>ZNF292</th>\n      <th>ZNF608</th>\n      <th>censor</th>\n      <th>time</th>\n    </tr>\n  </thead>\n  <tbody>\n    <tr>\n      <th>0</th>\n      <td>-0.465</td>\n      <td>0.153</td>\n      <td>-0.205</td>\n      <td>-0.054</td>\n      <td>0.259</td>\n      <td>-0.129</td>\n      <td>-0.022</td>\n      <td>-0.503</td>\n      <td>0.225</td>\n      <td>0.368</td>\n      <td>...</td>\n      <td>-0.157</td>\n      <td>-0.064</td>\n      <td>-0.297</td>\n      <td>-0.294</td>\n      <td>0.376</td>\n      <td>0.329</td>\n      <td>-0.147</td>\n      <td>0.212</td>\n      <td>0</td>\n      <td>17.936</td>\n    </tr>\n    <tr>\n      <th>1</th>\n      <td>0.002</td>\n      <td>-0.011</td>\n      <td>-0.098</td>\n      <td>-0.011</td>\n      <td>-0.008</td>\n      <td>0.009</td>\n      <td>-0.081</td>\n      <td>-0.926</td>\n      <td>-0.013</td>\n      <td>0.393</td>\n      <td>...</td>\n      <td>-0.078</td>\n      <td>-0.098</td>\n      <td>0.138</td>\n      <td>0.053</td>\n      <td>-0.008</td>\n      <td>0.263</td>\n      <td>-0.030</td>\n      <td>0.183</td>\n      <td>0</td>\n      <td>79.648</td>\n    </tr>\n    <tr>\n      <th>2</th>\n      <td>-0.185</td>\n      <td>0.032</td>\n      <td>-0.088</td>\n      <td>-0.026</td>\n      <td>0.030</td>\n      <td>0.028</td>\n      <td>-0.090</td>\n      <td>-0.096</td>\n      <td>-0.017</td>\n      <td>0.761</td>\n      <td>...</td>\n      <td>-0.110</td>\n      <td>-0.086</td>\n      <td>0.041</td>\n      <td>-0.079</td>\n      <td>-0.163</td>\n      <td>-0.023</td>\n      <td>-0.359</td>\n      <td>-0.007</td>\n      <td>0</td>\n      <td>56.848</td>\n    </tr>\n    <tr>\n      <th>3</th>\n      <td>0.728</td>\n      <td>0.033</td>\n      <td>-0.764</td>\n      <td>-0.764</td>\n      <td>0.017</td>\n      <td>0.680</td>\n      <td>0.000</td>\n      <td>0.008</td>\n      <td>-0.006</td>\n      <td>0.670</td>\n      <td>...</td>\n      <td>-0.025</td>\n      <td>0.557</td>\n      <td>0.683</td>\n      <td>0.037</td>\n      <td>-0.001</td>\n      <td>0.015</td>\n      <td>0.050</td>\n      <td>-0.003</td>\n      <td>0</td>\n      <td>69.616</td>\n    </tr>\n    <tr>\n      <th>4</th>\n      <td>-0.099</td>\n      <td>-0.022</td>\n      <td>-0.364</td>\n      <td>-0.012</td>\n      <td>-0.008</td>\n      <td>-0.012</td>\n      <td>-0.025</td>\n      <td>0.070</td>\n      <td>0.005</td>\n      <td>0.026</td>\n      <td>...</td>\n      <td>-0.109</td>\n      <td>-0.042</td>\n      <td>-0.068</td>\n      <td>0.033</td>\n      <td>-0.061</td>\n      <td>0.057</td>\n      <td>-0.089</td>\n      <td>-0.018</td>\n      <td>0</td>\n      <td>86.032</td>\n    </tr>\n    <tr>\n      <th>...</th>\n      <td>...</td>\n      <td>...</td>\n      <td>...</td>\n      <td>...</td>\n      <td>...</td>\n      <td>...</td>\n      <td>...</td>\n      <td>...</td>\n      <td>...</td>\n      <td>...</td>\n      <td>...</td>\n      <td>...</td>\n      <td>...</td>\n      <td>...</td>\n      <td>...</td>\n      <td>...</td>\n      <td>...</td>\n      <td>...</td>\n      <td>...</td>\n      <td>...</td>\n      <td>...</td>\n    </tr>\n    <tr>\n      <th>95</th>\n      <td>-0.480</td>\n      <td>0.360</td>\n      <td>0.341</td>\n      <td>-0.078</td>\n      <td>0.299</td>\n      <td>-0.282</td>\n      <td>-0.097</td>\n      <td>-0.260</td>\n      <td>0.278</td>\n      <td>0.339</td>\n      <td>...</td>\n      <td>-0.286</td>\n      <td>-0.290</td>\n      <td>-0.362</td>\n      <td>-1.019</td>\n      <td>0.429</td>\n      <td>0.195</td>\n      <td>-0.190</td>\n      <td>0.248</td>\n      <td>0</td>\n      <td>58.672</td>\n    </tr>\n    <tr>\n      <th>96</th>\n      <td>-0.083</td>\n      <td>-0.078</td>\n      <td>0.160</td>\n      <td>-0.101</td>\n      <td>0.005</td>\n      <td>-0.063</td>\n      <td>-0.552</td>\n      <td>0.389</td>\n      <td>-0.009</td>\n      <td>-0.023</td>\n      <td>...</td>\n      <td>-0.056</td>\n      <td>0.644</td>\n      <td>-0.075</td>\n      <td>-0.367</td>\n      <td>-0.023</td>\n      <td>-0.234</td>\n      <td>0.016</td>\n      <td>0.000</td>\n      <td>1</td>\n      <td>79.344</td>\n    </tr>\n    <tr>\n      <th>97</th>\n      <td>0.365</td>\n      <td>-0.162</td>\n      <td>0.137</td>\n      <td>-0.176</td>\n      <td>0.442</td>\n      <td>-0.113</td>\n      <td>-0.133</td>\n      <td>-0.155</td>\n      <td>-0.143</td>\n      <td>-0.187</td>\n      <td>...</td>\n      <td>0.278</td>\n      <td>1.568</td>\n      <td>0.442</td>\n      <td>-0.045</td>\n      <td>0.292</td>\n      <td>0.021</td>\n      <td>-0.176</td>\n      <td>0.426</td>\n      <td>0</td>\n      <td>337.440</td>\n    </tr>\n    <tr>\n      <th>98</th>\n      <td>-0.262</td>\n      <td>0.448</td>\n      <td>-0.223</td>\n      <td>-0.169</td>\n      <td>0.424</td>\n      <td>-0.171</td>\n      <td>0.412</td>\n      <td>-0.738</td>\n      <td>0.351</td>\n      <td>2.141</td>\n      <td>...</td>\n      <td>0.009</td>\n      <td>-0.348</td>\n      <td>0.074</td>\n      <td>-0.428</td>\n      <td>0.602</td>\n      <td>0.255</td>\n      <td>-0.685</td>\n      <td>0.278</td>\n      <td>0</td>\n      <td>36.784</td>\n    </tr>\n    <tr>\n      <th>99</th>\n      <td>0.366</td>\n      <td>-0.243</td>\n      <td>-0.064</td>\n      <td>-0.083</td>\n      <td>-0.092</td>\n      <td>0.010</td>\n      <td>-0.139</td>\n      <td>0.292</td>\n      <td>-0.205</td>\n      <td>0.294</td>\n      <td>...</td>\n      <td>-0.059</td>\n      <td>-0.050</td>\n      <td>-0.017</td>\n      <td>0.139</td>\n      <td>-0.231</td>\n      <td>0.077</td>\n      <td>-0.233</td>\n      <td>-0.125</td>\n      <td>0</td>\n      <td>60.192</td>\n    </tr>\n  </tbody>\n</table>\n<p>100 rows × 142 columns</p>\n</div>"
     },
     "execution_count": 12,
     "metadata": {},
     "output_type": "execute_result"
    }
   ],
   "source": [
    "orig_data = data_processing.load_prepare_breast_cancer_rna_dataset()\n",
    "orig_data.head(100)"
   ]
  },
  {
   "cell_type": "code",
   "execution_count": 13,
   "id": "bae3b928aa9b4538",
   "metadata": {
    "collapsed": false,
    "ExecuteTime": {
     "end_time": "2024-05-19T08:12:14.199994300Z",
     "start_time": "2024-05-19T07:21:09.262216800Z"
    }
   },
   "outputs": [
    {
     "name": "stderr",
     "output_type": "stream",
     "text": [
      "[2024-05-19T10:21:13.273438+0300][11548][CRITICAL] module disabled: C:\\Users\\asafk\\Desktop\\Technion\\Semester_7\\Project\\pythonProject\\.venv\\lib\\site-packages\\synthcity\\plugins\\generic\\plugin_goggle.py\n",
      "INFO:datasets:PyTorch version 1.13.1 available.\n",
      "[2024-05-19T10:21:19.254001+0300][11548][CRITICAL] module disabled: C:\\Users\\asafk\\Desktop\\Technion\\Semester_7\\Project\\pythonProject\\.venv\\lib\\site-packages\\synthcity\\plugins\\generic\\plugin_goggle.py\n",
      "  9%|▉         | 949/10000 [49:55<7:56:08,  3.16s/it] \n"
     ]
    }
   ],
   "source": [
    "_, df_syn = data_processing.generate_synthetic_data(orig_data, 40000)"
   ]
  },
  {
   "cell_type": "code",
   "execution_count": 14,
   "id": "784f36790e5e3aa9",
   "metadata": {
    "collapsed": false,
    "ExecuteTime": {
     "end_time": "2024-05-19T08:12:14.688283600Z",
     "start_time": "2024-05-19T08:12:14.201993Z"
    }
   },
   "outputs": [],
   "source": [
    "time, censor = data_processing.determine_censor_time(df_syn)\n",
    "# we can generate extra data and use only the censored samples from a given point to get a dataset with higher censoring percentage \n",
    "df_tmp = df_syn.iloc[20001:40000, :]\n",
    "df_tmp2 = df_syn.iloc[0:20001, :]\n",
    "df_tmp2 = pd.concat([df_tmp2, df_tmp.loc[(df_tmp['time'] < time) & (df_tmp['censor'] == False)]])"
   ]
  },
  {
   "cell_type": "code",
   "execution_count": 15,
   "id": "1bd304e4578cdc20",
   "metadata": {
    "collapsed": false,
    "ExecuteTime": {
     "end_time": "2024-05-19T08:29:41.182916500Z",
     "start_time": "2024-05-19T08:28:53.942194200Z"
    }
   },
   "outputs": [],
   "source": [
    "df_syn = df_tmp2\n",
    "df_syn.to_excel('datasets/syn/breast_cancer_rna_40k.xlsx')"
   ]
  },
  {
   "cell_type": "markdown",
   "source": [
    "# Experiment\n",
    "## Load pre-saved data"
   ],
   "metadata": {
    "collapsed": false
   },
   "id": "6e02b8d97093b7a9"
  },
  {
   "cell_type": "code",
   "execution_count": 17,
   "id": "5c454d46d5aaa1ed",
   "metadata": {
    "collapsed": false,
    "ExecuteTime": {
     "end_time": "2024-05-25T09:08:52.065089300Z",
     "start_time": "2024-05-25T09:08:43.939661700Z"
    }
   },
   "outputs": [],
   "source": [
    "df_syn = pd.read_excel(\"datasets/syn/breast_cancer_10000.xlsx\", index_col=0)"
   ]
  },
  {
   "cell_type": "code",
   "execution_count": 20,
   "outputs": [
    {
     "data": {
      "text/plain": "<Figure size 640x480 with 1 Axes>",
      "image/png": "[encoded data removed]"
     },
     "metadata": {},
     "output_type": "display_data"
    }
   ],
   "source": [
    "# plot censored percentage by time if we want to manually pick the timeframe, can also use data_processing.determine_censor_time\n",
    "plots.censored_by_time_plot(df_syn)\n",
    "# params dict for hyperparameter tuning\n",
    "params = {'n_estimators': [100, 250], 'max_depth': [8, 16, 32, 64, None], 'min_samples_split': [10, 50, 100, 200], 'max_features': ['sqrt', 'log2', 0.5, 1]}"
   ],
   "metadata": {
    "collapsed": false,
    "ExecuteTime": {
     "end_time": "2024-05-25T09:09:19.903308900Z",
     "start_time": "2024-05-25T09:09:19.520629700Z"
    }
   },
   "id": "17d68c4c8c7d6619"
  },
  {
   "cell_type": "markdown",
   "source": [
    "## Hyperparameter tuning"
   ],
   "metadata": {
    "collapsed": false
   },
   "id": "2be0c24759f37cb9"
  },
  {
   "cell_type": "code",
   "execution_count": 21,
   "outputs": [],
   "source": [
    "# set censor time manually\n",
    "censor_time = 5500"
   ],
   "metadata": {
    "collapsed": false,
    "ExecuteTime": {
     "end_time": "2024-05-25T09:09:30.824343300Z",
     "start_time": "2024-05-25T09:09:30.683436700Z"
    }
   },
   "id": "9d4ae62432dda188"
  },
  {
   "cell_type": "code",
   "execution_count": 23,
   "outputs": [],
   "source": [
    "# if we want to use default params\n",
    "rsf_params = None\n",
    "rfc_params = None"
   ],
   "metadata": {
    "collapsed": false,
    "ExecuteTime": {
     "end_time": "2024-05-25T09:09:58.067589400Z",
     "start_time": "2024-05-25T09:09:57.898091800Z"
    }
   },
   "id": "3d9fee94ff3035cf"
  },
  {
   "cell_type": "code",
   "execution_count": null,
   "outputs": [],
   "source": [
    "rsf_params, best_auc_rsf = models.model_tuning_rsf(df_syn, censor_time, params, 3)"
   ],
   "metadata": {
    "collapsed": false
   },
   "id": "c893025241c48f90"
  },
  {
   "cell_type": "code",
   "execution_count": null,
   "outputs": [],
   "source": [
    "datasets = data_processing.create_datasets(df_syn, censor_time)\n",
    "rfc_params, best_auc_rfc = models.model_tuning(datasets['uncensored']['X_train'],datasets['uncensored']['y_train'], RandomForestClassifier(), params, verbose=3)"
   ],
   "metadata": {
    "collapsed": false
   },
   "id": "99b68c9ddd3d01e9"
  },
  {
   "cell_type": "code",
   "execution_count": null,
   "outputs": [],
   "source": [
    "print(f\"rsf params: {rsf_params}\")\n",
    "print(f\"rfc params: {rfc_params}\")"
   ],
   "metadata": {
    "collapsed": false,
    "ExecuteTime": {
     "start_time": "2024-05-15T14:42:54.509696700Z"
    }
   },
   "id": "91843edd50302ffa"
  },
  {
   "cell_type": "markdown",
   "source": [
    "## Train and score models"
   ],
   "metadata": {
    "collapsed": false
   },
   "id": "ecf1373c6b53d3bc"
  },
  {
   "cell_type": "code",
   "execution_count": 24,
   "outputs": [],
   "source": [
    "# if we want to manually change params\n",
    "rsf_params = {'n_estimators': 250, 'max_depth': 24, 'min_samples_split': 10, 'max_features': 'log2'}"
   ],
   "metadata": {
    "collapsed": false,
    "ExecuteTime": {
     "end_time": "2024-05-25T09:09:59.871390100Z",
     "start_time": "2024-05-25T09:09:59.710512900Z"
    }
   },
   "id": "ccd4f89e1d1a3a27"
  },
  {
   "cell_type": "code",
   "execution_count": null,
   "outputs": [],
   "source": [
    "rfc_params = {'max_depth': 64, 'min_samples_leaf': 5, 'n_estimators': 100}"
   ],
   "metadata": {
    "collapsed": false
   },
   "id": "2caa3b1cb7a13a97"
  },
  {
   "cell_type": "code",
   "execution_count": null,
   "id": "7077bc9d46c5ccc5",
   "metadata": {
    "collapsed": false,
    "is_executing": true,
    "ExecuteTime": {
     "start_time": "2024-05-25T09:13:55.274114300Z"
    }
   },
   "outputs": [
    {
     "name": "stdout",
     "output_type": "stream",
     "text": [
      "censored ratios: [0.0, 0.1, 0.2, 0.3, 0.4, 0.5, 0.6, 0.7]\n"
     ]
    },
    {
     "name": "stderr",
     "output_type": "stream",
     "text": [
      "  0%|          | 0/10 [00:00<?, ?it/s]\n",
      "  0%|          | 0/8 [00:00<?, ?it/s]\u001B[A\n",
      " 12%|█▎        | 1/8 [00:08<00:56,  8.06s/it]\u001B[A\n",
      " 25%|██▌       | 2/8 [00:24<01:17, 12.88s/it]\u001B[A\n",
      " 38%|███▊      | 3/8 [00:55<01:45, 21.11s/it]\u001B[A\n",
      " 50%|█████     | 4/8 [01:09<01:14, 18.57s/it]\u001B[A\n",
      " 62%|██████▎   | 5/8 [01:29<00:57, 19.05s/it]\u001B[A\n",
      " 75%|███████▌  | 6/8 [01:57<00:44, 22.09s/it]\u001B[A\n",
      " 88%|████████▊ | 7/8 [02:41<00:29, 29.25s/it]\u001B[A"
     ]
    }
   ],
   "source": [
    "import experiments\n",
    "rfc_auc_mean = 0\n",
    "_, top_percent = data_processing.determine_censor_time(df_syn)\n",
    "censor_vals = [x / 100.0 for x in range(0, int(top_percent), 10)]\n",
    "print(f'censored ratios: {censor_vals}')\n",
    "rsf_auc_mean = np.zeros(len(censor_vals))\n",
    "num_experiments = 10\n",
    "# censor_time, _ = data_processing.determine_censor_time(df_syn)\n",
    "for i in tqdm(range(num_experiments)):\n",
    "    rfc_auc, rsf_aucs = experiments.rsf_rfc(df_syn, censor_vals, censor_time, rsf_params, rfc_params)\n",
    "    rfc_auc_mean += rfc_auc\n",
    "    rsf_auc_mean += np.asarray(rsf_aucs)\n",
    "rfc_auc_mean /= num_experiments\n",
    "rsf_auc_mean /= num_experiments"
   ]
  },
  {
   "cell_type": "code",
   "execution_count": null,
   "outputs": [],
   "source": [
    "plots.line_plot(rsf_auc_mean, rfc_auc_mean, censor_vals, 10, 'breast cancer')"
   ],
   "metadata": {
    "collapsed": false,
    "is_executing": true
   },
   "id": "5b0ba2188eef9cce"
  },
  {
   "cell_type": "code",
   "execution_count": 12,
   "outputs": [],
   "source": [
    "experiments.exp_report(df_syn, 'aids_base_models', censor_vals, censor_time, rsf_params, rfc_params, {'rfc_auc_mean': rfc_auc_mean, 'rsf_auc_mean': rsf_auc_mean})"
   ],
   "metadata": {
    "collapsed": false,
    "ExecuteTime": {
     "end_time": "2024-05-17T08:18:47.652009800Z",
     "start_time": "2024-05-17T08:18:47.510317100Z"
    }
   },
   "id": "42dc4214cb6bed26"
  }
 ],
 "metadata": {
  "kernelspec": {
   "display_name": "Python 3 (ipykernel)",
   "language": "python",
   "name": "python3"
  },
  "language_info": {
   "codemirror_mode": {
    "name": "ipython",
    "version": 3
   },
   "file_extension": ".py",
   "mimetype": "text/x-python",
   "name": "python",
   "nbconvert_exporter": "python",
   "pygments_lexer": "ipython3",
   "version": "3.10.11"
  }
 },
 "nbformat": 4,
 "nbformat_minor": 5
}
